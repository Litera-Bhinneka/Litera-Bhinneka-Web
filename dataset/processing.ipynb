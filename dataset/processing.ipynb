{
 "cells": [
  {
   "cell_type": "code",
   "execution_count": 17,
   "metadata": {},
   "outputs": [],
   "source": [
    "import pandas as pd\n",
    "import numpy as np\n",
    "import re\n",
    "import ast\n",
    "\n",
    "import warnings\n",
    "warnings.filterwarnings('ignore')\n",
    "pd.set_option('display.max_columns', None)  "
   ]
  },
  {
   "cell_type": "markdown",
   "metadata": {},
   "source": [
    "## Preprocessing Book Catalog Data"
   ]
  },
  {
   "cell_type": "code",
   "execution_count": 18,
   "metadata": {},
   "outputs": [],
   "source": [
    "books = pd.read_csv(r\"C:\\Users\\ThinkPad\\OneDrive\\Kuliah_Ghana\\SEMESTER_3\\PBP\\process_data\\archive (1)\\books_data.csv\")"
   ]
  },
  {
   "cell_type": "code",
   "execution_count": 20,
   "metadata": {},
   "outputs": [
    {
     "data": {
      "text/html": [
       "<div>\n",
       "<style scoped>\n",
       "    .dataframe tbody tr th:only-of-type {\n",
       "        vertical-align: middle;\n",
       "    }\n",
       "\n",
       "    .dataframe tbody tr th {\n",
       "        vertical-align: top;\n",
       "    }\n",
       "\n",
       "    .dataframe thead th {\n",
       "        text-align: right;\n",
       "    }\n",
       "</style>\n",
       "<table border=\"1\" class=\"dataframe\">\n",
       "  <thead>\n",
       "    <tr style=\"text-align: right;\">\n",
       "      <th></th>\n",
       "      <th>title</th>\n",
       "      <th>description</th>\n",
       "      <th>author</th>\n",
       "      <th>image_link</th>\n",
       "      <th>preview_link</th>\n",
       "      <th>publisher</th>\n",
       "      <th>published_date</th>\n",
       "      <th>info_link</th>\n",
       "      <th>category</th>\n",
       "      <th>rating</th>\n",
       "    </tr>\n",
       "  </thead>\n",
       "  <tbody>\n",
       "    <tr>\n",
       "      <th>596</th>\n",
       "      <td>Extreme Exploits: Advanced Defenses Against Ha...</td>\n",
       "      <td>Provides information on how hackers target exp...</td>\n",
       "      <td>Andrew Vladimirov, Konstantin Gavrilenko, Andr...</td>\n",
       "      <td>http://books.google.com/books/content?id=ue1SA...</td>\n",
       "      <td>http://books.google.nl/books?id=ue1SAAAAMAAJ&amp;q...</td>\n",
       "      <td>McGraw Hill Professional</td>\n",
       "      <td>2006</td>\n",
       "      <td>http://books.google.nl/books?id=ue1SAAAAMAAJ&amp;d...</td>\n",
       "      <td>Computers</td>\n",
       "      <td>1</td>\n",
       "    </tr>\n",
       "    <tr>\n",
       "      <th>127075</th>\n",
       "      <td>Fatal Harvest (Fatal Harvest Series #1)</td>\n",
       "      <td>Fatal Harvest takes an unprecedented look at o...</td>\n",
       "      <td>Andrew Kimbrell</td>\n",
       "      <td>http://books.google.com/books/content?id=plTcV...</td>\n",
       "      <td>http://books.google.nl/books?id=plTcVDph_SQC&amp;p...</td>\n",
       "      <td>Island Press</td>\n",
       "      <td>2002</td>\n",
       "      <td>http://books.google.nl/books?id=plTcVDph_SQC&amp;d...</td>\n",
       "      <td>Business &amp; Economics</td>\n",
       "      <td>2</td>\n",
       "    </tr>\n",
       "  </tbody>\n",
       "</table>\n",
       "</div>"
      ],
      "text/plain": [
       "                                                    title  \\\n",
       "596     Extreme Exploits: Advanced Defenses Against Ha...   \n",
       "127075            Fatal Harvest (Fatal Harvest Series #1)   \n",
       "\n",
       "                                              description  \\\n",
       "596     Provides information on how hackers target exp...   \n",
       "127075  Fatal Harvest takes an unprecedented look at o...   \n",
       "\n",
       "                                                   author  \\\n",
       "596     Andrew Vladimirov, Konstantin Gavrilenko, Andr...   \n",
       "127075                                    Andrew Kimbrell   \n",
       "\n",
       "                                               image_link  \\\n",
       "596     http://books.google.com/books/content?id=ue1SA...   \n",
       "127075  http://books.google.com/books/content?id=plTcV...   \n",
       "\n",
       "                                             preview_link  \\\n",
       "596     http://books.google.nl/books?id=ue1SAAAAMAAJ&q...   \n",
       "127075  http://books.google.nl/books?id=plTcVDph_SQC&p...   \n",
       "\n",
       "                       publisher published_date  \\\n",
       "596     McGraw Hill Professional           2006   \n",
       "127075              Island Press           2002   \n",
       "\n",
       "                                                info_link  \\\n",
       "596     http://books.google.nl/books?id=ue1SAAAAMAAJ&d...   \n",
       "127075  http://books.google.nl/books?id=plTcVDph_SQC&d...   \n",
       "\n",
       "                    category  rating  \n",
       "596                Computers       1  \n",
       "127075  Business & Economics       2  "
      ]
     },
     "execution_count": 20,
     "metadata": {},
     "output_type": "execute_result"
    }
   ],
   "source": [
    "# filter out books with less than 5 ratings\n",
    "book = books.dropna()\n",
    "\n",
    "allowed_categories = [\"Cooking\", \"Sports & Recreation\", \"Technology & Engineering\", \"Science\",\n",
    "                      \"Foreign Language Study\", \"Travel\",\n",
    "                      \"Computers\", \"Architecture\", \"Business & Economics\", \"Biography\"]\n",
    "book = book[book[\"ratingsCount\"] <= 5]\n",
    "\n",
    "book[\"categories\"] = book[\"categories\"].apply(lambda row: ', '.join(ast.literal_eval(row)))\n",
    "book[\"authors\"] = book[\"authors\"].apply(lambda row: ', '.join(ast.literal_eval(row)))\n",
    "book[\"publishedDate\"] = book[\"publishedDate\"].apply(lambda row: row.split(\"-\")[0])\n",
    "book[\"ratingsCount\"] = book[\"ratingsCount\"].astype(int)\n",
    "book = book[book[\"categories\"].isin(allowed_categories)]\n",
    "\n",
    "# change column names\n",
    "new_columns = [\"title\", \"description\", \"author\", \"image_link\", \"preview_link\", \n",
    "               \"publisher\", \"published_date\", \"info_link\", \"category\", \"rating\"]   \n",
    "book.columns = new_columns\n",
    "\n",
    "# sampling 50 books\n",
    "sampled_book = book.sample(n=50, random_state=2000)\n",
    "sampled_book.head(2)"
   ]
  },
  {
   "cell_type": "code",
   "execution_count": 21,
   "metadata": {},
   "outputs": [
    {
     "data": {
      "text/plain": [
       "1    21\n",
       "2    14\n",
       "3     9\n",
       "4     5\n",
       "5     1\n",
       "Name: rating, dtype: int64"
      ]
     },
     "execution_count": 21,
     "metadata": {},
     "output_type": "execute_result"
    }
   ],
   "source": [
    "# check the distribution of ratings\n",
    "sampled_book.rating.value_counts()"
   ]
  },
  {
   "cell_type": "code",
   "execution_count": 22,
   "metadata": {},
   "outputs": [],
   "source": [
    "# remove non-ascii characters\n",
    "sampled_book = sampled_book.reset_index(drop=True)\n",
    "\n",
    "text_col = [\"title\", \"description\", \"author\", \"category\", \"publisher\"]\n",
    "for col in text_col:\n",
    "    sampled_book[col].replace({r'[^\\x00-\\x7F]+':''}, regex=True, inplace=True)"
   ]
  },
  {
   "cell_type": "code",
   "execution_count": 23,
   "metadata": {},
   "outputs": [],
   "source": [
    "# save the sampled book data\n",
    "sampled_book.to_csv(\"book_sampled.csv\", index=False)"
   ]
  },
  {
   "cell_type": "markdown",
   "metadata": {},
   "source": [
    "## Preprocessing Book Review Data"
   ]
  },
  {
   "cell_type": "code",
   "execution_count": 24,
   "metadata": {},
   "outputs": [],
   "source": [
    "rating_ori = pd.read_csv(r\"C:\\Users\\ThinkPad\\OneDrive\\Kuliah_Ghana\\SEMESTER_3\\PBP\\process_data\\archive (1)/Books_rating.csv\")"
   ]
  },
  {
   "cell_type": "code",
   "execution_count": 25,
   "metadata": {},
   "outputs": [],
   "source": [
    "# filter books\n",
    "rating = rating_ori.dropna()\n",
    "rating = rating[rating[\"Title\"].isin(sampled_book[\"title\"])].drop([\"Id\", \"Price\", \"review/helpfulness\", \n",
    "                                                                   \"review/time\", \"User_id\"], axis=1)\n",
    "\n",
    "# sample 50 reviews\n",
    "rating_sampled = rating.sample(n=50, random_state=1)\n",
    "\n",
    "# change column names\n",
    "new_columns_rating = [\"book_title\", \"reviewer_name\", \"review_score\", \"review_summary\", \"review_text\"]\n",
    "rating_sampled.columns = new_columns_rating"
   ]
  },
  {
   "cell_type": "code",
   "execution_count": 26,
   "metadata": {},
   "outputs": [
    {
     "data": {
      "text/html": [
       "<div>\n",
       "<style scoped>\n",
       "    .dataframe tbody tr th:only-of-type {\n",
       "        vertical-align: middle;\n",
       "    }\n",
       "\n",
       "    .dataframe tbody tr th {\n",
       "        vertical-align: top;\n",
       "    }\n",
       "\n",
       "    .dataframe thead th {\n",
       "        text-align: right;\n",
       "    }\n",
       "</style>\n",
       "<table border=\"1\" class=\"dataframe\">\n",
       "  <thead>\n",
       "    <tr style=\"text-align: right;\">\n",
       "      <th></th>\n",
       "      <th>book_title</th>\n",
       "      <th>reviewer_name</th>\n",
       "      <th>review_score</th>\n",
       "      <th>review_summary</th>\n",
       "      <th>review_text</th>\n",
       "      <th>review_date</th>\n",
       "    </tr>\n",
       "  </thead>\n",
       "  <tbody>\n",
       "    <tr>\n",
       "      <th>0</th>\n",
       "      <td>The Whole Foods Allergy Cookbook: Two Hundred ...</td>\n",
       "      <td>Michelle M. Pagan</td>\n",
       "      <td>1</td>\n",
       "      <td>Waste of time and money</td>\n",
       "      <td>This cookbook is a waste of money. The recipes...</td>\n",
       "      <td>2023-01-01</td>\n",
       "    </tr>\n",
       "    <tr>\n",
       "      <th>1</th>\n",
       "      <td>A Taste of Haiti (Hippocrene Cookbook Library)</td>\n",
       "      <td>willie31</td>\n",
       "      <td>1</td>\n",
       "      <td>Disappointed</td>\n",
       "      <td>It seems that some ingredients were not correc...</td>\n",
       "      <td>2023-01-01</td>\n",
       "    </tr>\n",
       "  </tbody>\n",
       "</table>\n",
       "</div>"
      ],
      "text/plain": [
       "                                          book_title      reviewer_name  \\\n",
       "0  The Whole Foods Allergy Cookbook: Two Hundred ...  Michelle M. Pagan   \n",
       "1     A Taste of Haiti (Hippocrene Cookbook Library)           willie31   \n",
       "\n",
       "   review_score           review_summary  \\\n",
       "0             1  Waste of time and money   \n",
       "1             1             Disappointed   \n",
       "\n",
       "                                         review_text review_date  \n",
       "0  This cookbook is a waste of money. The recipes...  2023-01-01  \n",
       "1  It seems that some ingredients were not correc...  2023-01-01  "
      ]
     },
     "execution_count": 26,
     "metadata": {},
     "output_type": "execute_result"
    }
   ],
   "source": [
    "rating_sampled[\"review_date\"] = pd.to_datetime([\"2023-01-01\" for _ in range(len(rating_sampled))])\n",
    "rating_sampled[\"review_score\"] = rating_sampled[\"review_score\"].astype(int)\n",
    "rating_sampled = rating_sampled.reset_index(drop=True)\n",
    "rating_sampled.head(2)"
   ]
  },
  {
   "cell_type": "code",
   "execution_count": 27,
   "metadata": {},
   "outputs": [],
   "source": [
    "# save the sampled rating data\n",
    "rating_sampled.to_csv(\"rating_sampled.csv\", index=False)"
   ]
  },
  {
   "cell_type": "code",
   "execution_count": null,
   "metadata": {},
   "outputs": [],
   "source": []
  }
 ],
 "metadata": {
  "kernelspec": {
   "display_name": "ev_2",
   "language": "python",
   "name": "python3"
  },
  "language_info": {
   "codemirror_mode": {
    "name": "ipython",
    "version": 3
   },
   "file_extension": ".py",
   "mimetype": "text/x-python",
   "name": "python",
   "nbconvert_exporter": "python",
   "pygments_lexer": "ipython3",
   "version": "3.9.15"
  }
 },
 "nbformat": 4,
 "nbformat_minor": 2
}
