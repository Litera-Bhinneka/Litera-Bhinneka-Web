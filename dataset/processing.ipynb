{
 "cells": [
  {
   "cell_type": "code",
   "execution_count": 1,
   "metadata": {},
   "outputs": [],
   "source": [
    "import pandas as pd\n",
    "import numpy as np\n",
    "import re\n",
    "\n",
    "import warnings\n",
    "warnings.filterwarnings('ignore')\n",
    "pd.set_option('display.max_columns', None)  "
   ]
  },
  {
   "cell_type": "markdown",
   "metadata": {},
   "source": [
    "## Preprocessing Book Catalog Data"
   ]
  },
  {
   "cell_type": "code",
   "execution_count": 2,
   "metadata": {},
   "outputs": [],
   "source": [
    "books = pd.read_csv(r\"C:\\Users\\ThinkPad\\OneDrive\\Kuliah_Ghana\\SEMESTER_3\\PBP\\process_data\\archive (1)\\books_data.csv\")"
   ]
  },
  {
   "cell_type": "code",
   "execution_count": 3,
   "metadata": {},
   "outputs": [
    {
     "data": {
      "text/html": [
       "<div>\n",
       "<style scoped>\n",
       "    .dataframe tbody tr th:only-of-type {\n",
       "        vertical-align: middle;\n",
       "    }\n",
       "\n",
       "    .dataframe tbody tr th {\n",
       "        vertical-align: top;\n",
       "    }\n",
       "\n",
       "    .dataframe thead th {\n",
       "        text-align: right;\n",
       "    }\n",
       "</style>\n",
       "<table border=\"1\" class=\"dataframe\">\n",
       "  <thead>\n",
       "    <tr style=\"text-align: right;\">\n",
       "      <th></th>\n",
       "      <th>title</th>\n",
       "      <th>description</th>\n",
       "      <th>author</th>\n",
       "      <th>image_link</th>\n",
       "      <th>preview_link</th>\n",
       "      <th>publisher</th>\n",
       "      <th>published_date</th>\n",
       "      <th>info_link</th>\n",
       "      <th>category</th>\n",
       "      <th>rating</th>\n",
       "    </tr>\n",
       "  </thead>\n",
       "  <tbody>\n",
       "    <tr>\n",
       "      <th>197756</th>\n",
       "      <td>THE CORMORANT.</td>\n",
       "      <td>Christian Beamish, a former editor at The Surf...</td>\n",
       "      <td>Christian Beamish</td>\n",
       "      <td>http://books.google.com/books/content?id=kQLnB...</td>\n",
       "      <td>http://books.google.com/books?id=kQLnBAAAQBAJ&amp;...</td>\n",
       "      <td>Patagonia</td>\n",
       "      <td>2013</td>\n",
       "      <td>https://play.google.com/store/books/details?id...</td>\n",
       "      <td>Sports &amp; Recreation</td>\n",
       "      <td>1</td>\n",
       "    </tr>\n",
       "    <tr>\n",
       "      <th>132745</th>\n",
       "      <td>Girl Time: A Celebration of Chick Flicks, Bad ...</td>\n",
       "      <td>Presents a series of sixteen stories that are ...</td>\n",
       "      <td>Laura Jensen Walker</td>\n",
       "      <td>http://books.google.com/books/content?id=TgThm...</td>\n",
       "      <td>http://books.google.com/books?id=TgThmc48TuMC&amp;...</td>\n",
       "      <td>Fleming H Revell Company</td>\n",
       "      <td>2004</td>\n",
       "      <td>http://books.google.com/books?id=TgThmc48TuMC&amp;...</td>\n",
       "      <td>Family &amp; Relationships</td>\n",
       "      <td>1</td>\n",
       "    </tr>\n",
       "  </tbody>\n",
       "</table>\n",
       "</div>"
      ],
      "text/plain": [
       "                                                    title  \\\n",
       "197756                                     THE CORMORANT.   \n",
       "132745  Girl Time: A Celebration of Chick Flicks, Bad ...   \n",
       "\n",
       "                                              description  \\\n",
       "197756  Christian Beamish, a former editor at The Surf...   \n",
       "132745  Presents a series of sixteen stories that are ...   \n",
       "\n",
       "                     author  \\\n",
       "197756    Christian Beamish   \n",
       "132745  Laura Jensen Walker   \n",
       "\n",
       "                                               image_link  \\\n",
       "197756  http://books.google.com/books/content?id=kQLnB...   \n",
       "132745  http://books.google.com/books/content?id=TgThm...   \n",
       "\n",
       "                                             preview_link  \\\n",
       "197756  http://books.google.com/books?id=kQLnBAAAQBAJ&...   \n",
       "132745  http://books.google.com/books?id=TgThmc48TuMC&...   \n",
       "\n",
       "                       publisher published_date  \\\n",
       "197756                 Patagonia           2013   \n",
       "132745  Fleming H Revell Company           2004   \n",
       "\n",
       "                                                info_link  \\\n",
       "197756  https://play.google.com/store/books/details?id...   \n",
       "132745  http://books.google.com/books?id=TgThmc48TuMC&...   \n",
       "\n",
       "                      category  rating  \n",
       "197756     Sports & Recreation       1  \n",
       "132745  Family & Relationships       1  "
      ]
     },
     "execution_count": 3,
     "metadata": {},
     "output_type": "execute_result"
    }
   ],
   "source": [
    "# filter out books with less than 5 ratings\n",
    "book = books.dropna()\n",
    "\n",
    "allowed_categories = [\"Cooking\", \"Sports & Recreation\", \"Technology & Engineering\", \"Science\",\n",
    "                      \"Foreign Language Study\", \"Travel\", \"Family & Relationships\",\n",
    "                      \"Computers\", \"Architecture\", \"Business & Economics\", \"Biography\"]\n",
    "book = book[book[\"ratingsCount\"] <= 5]\n",
    "\n",
    "book[\"categories\"] = book[\"categories\"].apply(lambda row: re.findall(r\"\\['(.*?)'\\]\", row)[0] \n",
    "                                                   if len(re.findall(r\"\\['(.*?)'\\]\", row)) >= 1 else np.nan)\n",
    "book[\"authors\"] = book[\"authors\"].apply(lambda row: re.findall(r\"\\['(.*?)'\\]\", row)[0] \n",
    "                                                   if len(re.findall(r\"\\['(.*?)'\\]\", row)) >= 1 else np.nan)\n",
    "book[\"publishedDate\"] = book[\"publishedDate\"].apply(lambda row: row.split(\"-\")[0])\n",
    "book[\"ratingsCount\"] = book[\"ratingsCount\"].astype(int)\n",
    "book = book[book[\"categories\"].isin(allowed_categories)]\n",
    "\n",
    "# change column names\n",
    "new_columns = [\"title\", \"description\", \"author\", \"image_link\", \"preview_link\", \n",
    "               \"publisher\", \"published_date\", \"info_link\", \"category\", \"rating\"]   \n",
    "book.columns = new_columns\n",
    "\n",
    "# sampling 50 books\n",
    "sampled_book = book.sample(n=50, random_state=2023)\n",
    "sampled_book.head(2)"
   ]
  },
  {
   "cell_type": "code",
   "execution_count": 4,
   "metadata": {},
   "outputs": [
    {
     "data": {
      "text/plain": [
       "1    28\n",
       "2    12\n",
       "3     6\n",
       "5     2\n",
       "4     2\n",
       "Name: rating, dtype: int64"
      ]
     },
     "execution_count": 4,
     "metadata": {},
     "output_type": "execute_result"
    }
   ],
   "source": [
    "# check the distribution of ratings\n",
    "sampled_book.rating.value_counts()"
   ]
  },
  {
   "cell_type": "code",
   "execution_count": 5,
   "metadata": {},
   "outputs": [],
   "source": [
    "# remove non-ascii characters\n",
    "sampled_book = sampled_book.reset_index(drop=True)\n",
    "\n",
    "text_col = [\"title\", \"description\", \"author\", \"category\", \"publisher\"]\n",
    "for col in text_col:\n",
    "    sampled_book[col].replace({r'[^\\x00-\\x7F]+':''}, regex=True, inplace=True)"
   ]
  },
  {
   "cell_type": "code",
   "execution_count": 6,
   "metadata": {},
   "outputs": [],
   "source": [
    "# save the sampled book data\n",
    "sampled_book.to_csv(\"book_sampled.csv\", index=False)"
   ]
  },
  {
   "cell_type": "markdown",
   "metadata": {},
   "source": [
    "## Preprocessing Book Review Data"
   ]
  },
  {
   "cell_type": "code",
   "execution_count": 7,
   "metadata": {},
   "outputs": [],
   "source": [
    "rating_ori = pd.read_csv(r\"C:\\Users\\ThinkPad\\OneDrive\\Kuliah_Ghana\\SEMESTER_3\\PBP\\process_data\\archive (1)/Books_rating.csv\")"
   ]
  },
  {
   "cell_type": "code",
   "execution_count": 8,
   "metadata": {},
   "outputs": [],
   "source": [
    "# filter books\n",
    "rating = rating_ori.dropna()\n",
    "rating = rating[rating[\"Title\"].isin(sampled_book[\"title\"])].drop([\"Id\", \"Price\", \"review/helpfulness\", \n",
    "                                                                   \"review/time\", \"User_id\"], axis=1)\n",
    "\n",
    "# sample 50 reviews\n",
    "rating_sampled = rating.sample(n=50, random_state=1)\n",
    "\n",
    "# change column names\n",
    "new_columns_rating = [\"book_title\", \"reviewer_name\", \"review_score\", \"review_summary\", \"review_text\"]\n",
    "rating_sampled.columns = new_columns_rating"
   ]
  },
  {
   "cell_type": "code",
   "execution_count": 9,
   "metadata": {},
   "outputs": [
    {
     "data": {
      "text/html": [
       "<div>\n",
       "<style scoped>\n",
       "    .dataframe tbody tr th:only-of-type {\n",
       "        vertical-align: middle;\n",
       "    }\n",
       "\n",
       "    .dataframe tbody tr th {\n",
       "        vertical-align: top;\n",
       "    }\n",
       "\n",
       "    .dataframe thead th {\n",
       "        text-align: right;\n",
       "    }\n",
       "</style>\n",
       "<table border=\"1\" class=\"dataframe\">\n",
       "  <thead>\n",
       "    <tr style=\"text-align: right;\">\n",
       "      <th></th>\n",
       "      <th>book_title</th>\n",
       "      <th>reviewer_name</th>\n",
       "      <th>review_score</th>\n",
       "      <th>review_summary</th>\n",
       "      <th>review_text</th>\n",
       "      <th>review_date</th>\n",
       "    </tr>\n",
       "  </thead>\n",
       "  <tbody>\n",
       "    <tr>\n",
       "      <th>0</th>\n",
       "      <td>French Made Simple: Learn to speak and underst...</td>\n",
       "      <td>Mache</td>\n",
       "      <td>5</td>\n",
       "      <td>french made simple</td>\n",
       "      <td>after searching for a french manual our teache...</td>\n",
       "      <td>2023-01-01</td>\n",
       "    </tr>\n",
       "    <tr>\n",
       "      <th>1</th>\n",
       "      <td>Programming Jabber: Extending XML Messaging (O...</td>\n",
       "      <td>Julian Missig</td>\n",
       "      <td>5</td>\n",
       "      <td>DJ delivers an excellent primer into the world...</td>\n",
       "      <td>As a disclaimer, I have been involved with Jab...</td>\n",
       "      <td>2023-01-01</td>\n",
       "    </tr>\n",
       "  </tbody>\n",
       "</table>\n",
       "</div>"
      ],
      "text/plain": [
       "                                          book_title  reviewer_name  \\\n",
       "0  French Made Simple: Learn to speak and underst...          Mache   \n",
       "1  Programming Jabber: Extending XML Messaging (O...  Julian Missig   \n",
       "\n",
       "   review_score                                     review_summary  \\\n",
       "0             5                                 french made simple   \n",
       "1             5  DJ delivers an excellent primer into the world...   \n",
       "\n",
       "                                         review_text review_date  \n",
       "0  after searching for a french manual our teache...  2023-01-01  \n",
       "1  As a disclaimer, I have been involved with Jab...  2023-01-01  "
      ]
     },
     "execution_count": 9,
     "metadata": {},
     "output_type": "execute_result"
    }
   ],
   "source": [
    "rating_sampled[\"review_date\"] = pd.to_datetime([\"2023-01-01\" for _ in range(len(rating_sampled))])\n",
    "rating_sampled[\"review_score\"] = rating_sampled[\"review_score\"].astype(int)\n",
    "rating_sampled = rating_sampled.reset_index(drop=True)\n",
    "rating_sampled.head(2)"
   ]
  },
  {
   "cell_type": "code",
   "execution_count": 10,
   "metadata": {},
   "outputs": [],
   "source": [
    "# save the sampled rating data\n",
    "rating_sampled.to_csv(\"rating_sampled.csv\", index=False)"
   ]
  },
  {
   "cell_type": "code",
   "execution_count": null,
   "metadata": {},
   "outputs": [],
   "source": []
  }
 ],
 "metadata": {
  "kernelspec": {
   "display_name": "ev_2",
   "language": "python",
   "name": "python3"
  },
  "language_info": {
   "codemirror_mode": {
    "name": "ipython",
    "version": 3
   },
   "file_extension": ".py",
   "mimetype": "text/x-python",
   "name": "python",
   "nbconvert_exporter": "python",
   "pygments_lexer": "ipython3",
   "version": "3.9.15"
  }
 },
 "nbformat": 4,
 "nbformat_minor": 2
}
